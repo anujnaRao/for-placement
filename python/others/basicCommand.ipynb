{
 "metadata": {
  "language_info": {
   "codemirror_mode": {
    "name": "ipython",
    "version": 3
   },
   "file_extension": ".py",
   "mimetype": "text/x-python",
   "name": "python",
   "nbconvert_exporter": "python",
   "pygments_lexer": "ipython3",
   "version": "3.8.2-final"
  },
  "orig_nbformat": 2,
  "kernelspec": {
   "name": "python_defaultSpec_1598377094391",
   "display_name": "Python 3.8.2 64-bit"
  }
 },
 "nbformat": 4,
 "nbformat_minor": 2,
 "cells": [
  {
   "cell_type": "code",
   "execution_count": 2,
   "metadata": {
    "tags": []
   },
   "outputs": [
    {
     "output_type": "stream",
     "name": "stdout",
     "text": "The cat command (short for “concatenate”) lists the contents of files to the terminal window. \nThis is faster than opening the file in an editor, and there’s no chance you can accidentally alter the file.\n\nWith files longer than the number of lines in your terminal window, the text will whip past too fast for you to read.\n\n You can pipe the output from cat through less to make the process more manageable.  With less you can scroll forward\n  and backward through the file using the Up and Down Arrow keys, the PgUp and PgDn keys, and the Home and End keys. \n  Type q to quit from less.\n\n  The cat command (short for “concatenate”) lists the contents of files to the terminal window. \nThis is faster than opening the file in an editor, and there’s no chance you can accidentally alter the file.\n\nWith files longer than the number of lines in your terminal window, the text will whip past too fast for you to read.\n\n You can pipe the output from cat through less to make the process more manageable.  With less you can scroll forward\n  and backward through the file using the Up and Down Arrow keys, the PgUp and PgDn keys, and the Home and End keys. \n  Type q to quit from less.\n\n  The cat command (short for “concatenate”) lists the contents of files to the terminal window. \nThis is faster than opening the file in an editor, and there’s no chance you can accidentally alter the file.\n\nWith files longer than the number of lines in your terminal window, the text will whip past too fast for you to read.\n\n You can pipe the output from cat through less to make the process more manageable.  With less you can scroll forward\n  and backward through the file using the Up and Down Arrow keys, the PgUp and PgDn keys, and the Home and End keys. \n  Type q to quit from less.\n\n  The cat command (short for “concatenate”) lists the contents of files to the terminal window. \nThis is faster than opening the file in an editor, and there’s no chance you can accidentally alter the file.\n\nWith files longer than the number of lines in your terminal window, the text will whip past too fast for you to read.\n\n You can pipe the output from cat through less to make the process more manageable.  With less you can scroll forward\n  and backward through the file using the Up and Down Arrow keys, the PgUp and PgDn keys, and the Home and End keys. \n  Type q to quit from less.\n\n  The cat command (short for “concatenate”) lists the contents of files to the terminal window. \nThis is faster than opening the file in an editor, and there’s no chance you can accidentally alter the file.\n\nWith files longer than the number of lines in your terminal window, the text will whip past too fast for you to read.\n\n You can pipe the output from cat through less to make the process more manageable.  With less you can scroll forward\n  and backward through the file using the Up and Down Arrow keys, the PgUp and PgDn keys, and the Home and End keys. \n  Type q to quit from less.\n\n  The cat command (short for “concatenate”) lists the contents of files to the terminal window. \nThis is faster than opening the file in an editor, and there’s no chance you can accidentally alter the file.\n\nWith files longer than the number of lines in your terminal window, the text will whip past too fast for you to read.\n\n You can pipe the output from cat through less to make the process more manageable.  With less you can scroll forward\n  and backward through the file using the Up and Down Arrow keys, the PgUp and PgDn keys, and the Home and End keys. \n  Type q to quit from less.\n"
    }
   ],
   "source": [
    "'''\n",
    "cat command:\n",
    "\n",
    "The cat command (short for “concatenate”) lists the contents of files to the terminal window. This is faster than opening the file in an editor, and there’s no chance you can accidentally alter the file.\n",
    "\n",
    "With files longer than the number of lines in your terminal window, the text will whip past too fast for you to read. You can pipe the output from cat through less to make the process more manageable.  With less you can scroll forward and backward through the file using the Up and Down Arrow keys, the PgUp and PgDn keys, and the Home and End keys. Type q to quit from less.\n",
    "\n",
    " '''\n",
    "#  Executing cat command using python\n",
    "#  cat f1.txt\n",
    "\n",
    "with open('/home/addy/workspace/for-placement/python/others/f1.txt') as f:\n",
    "    data = f.read()\n",
    "    print(data)\n",
    "    # cat f1.txt | less\n",
    "    # for i in range(0, len(data), 500):\n",
    "    #     print(data[i:i+500])\n",
    "    #     input(\"Press Enter for more\")\n",
    "\n",
    "#  Read the file Sequentially\n"
   ]
  },
  {
   "cell_type": "code",
   "execution_count": 57,
   "metadata": {
    "tags": []
   },
   "outputs": [
    {
     "output_type": "stream",
     "name": "stdout",
     "text": "The cat command (short for “concatenate”) lists \u001b[32mthe\u001b[0m contents of files to \u001b[32mthe\u001b[0m terminal window. \n"
    }
   ],
   "source": [
    "'''\n",
    "grep\n",
    "The grep utility searches for lines which contain a search pattern. When we looked at the alias command, we used grep to search through the output of another program, ps . The grep command can also search the contents of files. \n",
    "\n",
    "'''\n",
    "import re\n",
    "\n",
    "s = \"\\033[1;32;40m Bright Green on black  \\033[1;31;43m Red on yellow \\033[1;34;42m Blue on green \\033[1;37;40m\"\n",
    "# print(s)\n",
    "\n",
    "s = \" \"\n",
    "with open('/home/addy/workspace/for-placement/python/others/f1.txt') as f:\n",
    "    s = f.read()\n",
    "colourFormat = '\\033[{0}m'\n",
    "colourStr = colourFormat.format(32)\n",
    "resetStr = colourFormat.format(0)\n",
    "\n",
    "\n",
    "lastMatch = 0\n",
    "formattedText = ''\n",
    "for match in re.finditer(r'(the)', s):\n",
    "    start, end = match.span()\n",
    "    formattedText += s[lastMatch: start]\n",
    "    formattedText += colourStr\n",
    "    formattedText += s[start: end]\n",
    "    formattedText += resetStr\n",
    "    lastMatch = end\n",
    "formattedText += s[lastMatch:]\n",
    "\n",
    "# print(formattedText)\n",
    "print(formattedText.split('\\n')[0])"
   ]
  },
  {
   "cell_type": "code",
   "execution_count": null,
   "metadata": {},
   "outputs": [],
   "source": []
  },
  {
   "cell_type": "code",
   "execution_count": null,
   "metadata": {},
   "outputs": [],
   "source": []
  }
 ]
}