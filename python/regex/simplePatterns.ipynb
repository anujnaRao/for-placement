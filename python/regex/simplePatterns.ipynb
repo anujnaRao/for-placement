{
 "metadata": {
  "language_info": {
   "codemirror_mode": {
    "name": "ipython",
    "version": 3
   },
   "file_extension": ".py",
   "mimetype": "text/x-python",
   "name": "python",
   "nbconvert_exporter": "python",
   "pygments_lexer": "ipython3",
   "version": "3.8.2-final"
  },
  "orig_nbformat": 2,
  "kernelspec": {
   "name": "python_defaultSpec_1598324362473",
   "display_name": "Python 3.8.2 64-bit"
  }
 },
 "nbformat": 4,
 "nbformat_minor": 2,
 "cells": [
  {
   "cell_type": "code",
   "execution_count": 8,
   "metadata": {},
   "outputs": [],
   "source": [
    "import re"
   ]
  },
  {
   "cell_type": "code",
   "execution_count": 9,
   "metadata": {
    "tags": []
   },
   "outputs": [
    {
     "output_type": "stream",
     "name": "stdout",
     "text": "<re.Match object; span=(3, 6), match='123'>\n(3, 6)\n"
    }
   ],
   "source": [
    "s1 = \"foo123barhello\"\n",
    "print(re.search('123',s1))\n",
    "# span() will return the range between the pattern lies\n",
    "print(re.search('123',s1).span())"
   ]
  },
  {
   "cell_type": "code",
   "execution_count": 10,
   "metadata": {
    "tags": []
   },
   "outputs": [
    {
     "output_type": "stream",
     "name": "stdout",
     "text": "<re.Match object; span=(3, 6), match='123'>\n(3, 6)\n<re.Match object; span=(3, 6), match='456'>\nNone\n"
    }
   ],
   "source": [
    "'''The real power of regex matching in Python emerges when <regex> contains special characters called metacharacters. These have a unique meaning to the regex matching engine and vastly enhance the capability of the search.'''\n",
    "\n",
    "# '[0-9][0-9][0-9]' 3 decimal between 0-9\n",
    "\n",
    "print(re.search('[0-9][0-9][0-9]',s1))\n",
    "print(re.search('[0-9][0-9][0-9]',s1).span())\n",
    "print(re.search('[0-9][0-9][0-9]', 'foo456bar'))\n",
    "print(re.search('[0-9][0-9][0-9]', '12foo34'))\n"
   ]
  },
  {
   "cell_type": "code",
   "execution_count": 11,
   "metadata": {
    "tags": []
   },
   "outputs": [
    {
     "output_type": "stream",
     "name": "stdout",
     "text": "<re.Match object; span=(3, 6), match='153'>\n<re.Match object; span=(3, 7), match='1753'>\n<re.Match object; span=(3, 8), match='15283'>\nNone\n<re.Match object; span=(3, 7), match='15a3'>\n"
    }
   ],
   "source": [
    "# regex (.) dot metacharacter works like wildcard  (.) can be any literal one character. Matches any single character except newline\n",
    "print(re.search('1.3',\"foo153bar\"))\n",
    "print(re.search('1..3',\"foo1753bar\"))\n",
    "print(re.search('1.2.3',\"foo15283bar\"))\n",
    "print(re.search('1.3',\"foo13bar\"))\n",
    "print(re.search('1..3',\"foo15a3bar\"))"
   ]
  },
  {
   "cell_type": "code",
   "execution_count": 12,
   "metadata": {
    "tags": []
   },
   "outputs": [
    {
     "output_type": "stream",
     "name": "stdout",
     "text": "<re.Match object; span=(0, 3), match='123'>\nSearch successful.\n"
    }
   ],
   "source": [
    "# ^ Anchors a match at the start of a string. $ Anchors a match at the end of a string\n",
    "print(re.search('^1.3',\"123foo153bar\"))\n",
    "'''Here, we used re.match() function to search pattern within the test_string. The method returns a match object if the search is successful. If not, it returns None.'''\n",
    "\n",
    "pattern = '^a...s$'\n",
    "test_string = 'abyss'\n",
    "result = re.match(pattern, test_string)\n",
    "\n",
    "if result:\n",
    "  print(\"Search successful.\")\n",
    "else:\n",
    "  print(\"Search unsuccessful.\")\t\n",
    "\n"
   ]
  },
  {
   "cell_type": "code",
   "execution_count": 13,
   "metadata": {
    "tags": []
   },
   "outputs": [
    {
     "output_type": "stream",
     "name": "stdout",
     "text": "<re.Match object; span=(0, 4), match='12f3'>\n"
    },
    {
     "output_type": "execute_result",
     "data": {
      "text/plain": "\"\\nMetaCharacters\\nMetacharacters are characters that are interpreted in a special way by a RegEx engine. Here's a list of metacharacters:\\n\\n[] . ^ $ * + ? {} () \\\\ |\\n\""
     },
     "metadata": {},
     "execution_count": 13
    }
   ],
   "source": [
    "# $ Anchors a match at the end of a string\n",
    "print(re.match('^1..3','12f3'))\n",
    "'''\n",
    "MetaCharacters\n",
    "Metacharacters are characters that are interpreted in a special way by a RegEx engine. Here's a list of metacharacters:\n",
    "\n",
    "[] . ^ $ * + ? {} () \\ |\n",
    "'''"
   ]
  },
  {
   "cell_type": "code",
   "execution_count": 14,
   "metadata": {
    "tags": []
   },
   "outputs": [
    {
     "output_type": "stream",
     "name": "stdout",
     "text": "<re.Match object; span=(0, 3), match='abc'>\nNone\n"
    }
   ],
   "source": [
    "# [] - Square brackets\n",
    "# Square brackets specifies a set of characters you wish to match.\n",
    "'''Here, [abc] will match if the string you are trying to match contains any of the a, b or c.\n",
    "\n",
    "You can also specify a range of characters using - inside square brackets.\n",
    "\n",
    "[a-e] is the same as [abcde].\n",
    "[1-4] is the same as [1234].\n",
    "[0-39] is the same as [01239].\n",
    "You can complement (invert) the character set by using caret ^ symbol at the start of a square-bracket.\n",
    "\n",
    "[^abc] means any character except a or b or c.\n",
    "[^0-9] means any non-digit character.'''\n",
    "\n",
    "print(re.match('^abc',\"abc de ca abc\"))\n",
    "print(re.match('[^abc]',\"abc de ca abc\"))\n"
   ]
  },
  {
   "cell_type": "code",
   "execution_count": 16,
   "metadata": {
    "tags": []
   },
   "outputs": [
    {
     "output_type": "stream",
     "name": "stdout",
     "text": "<re.Match object; span=(2, 5), match='man'>\n<re.Match object; span=(6, 11), match='maaan'>\n<re.Match object; span=(0, 2), match='mn'>\n<re.Match object; span=(5, 8), match='man'>\n['aaa', 'aaaaa', 'aaaa', 'aaaaa']\n['827', '138', '8851']\n<re.Match object; span=(3, 6), match='bar'>\n<re.Match object; span=(3, 6), match='baz'>\n"
    }
   ],
   "source": [
    "# '''* - Star\n",
    "# The star symbol * matches zero or more occurrences of the pattern left to it.\n",
    "# re.match()\n",
    "# re.match() function will search the regular expression pattern and return the first occurrence. This method checks for a match only at the beginning of the string. So, if a match is found in the first line, it returns the match object. But if a match is found in some other line, it returns null.'''\n",
    "\n",
    "print(re.search('ma*n',\"womanknmanwomenmaaan\"))\n",
    "print(re.search('ma+n',\"mnmawnmaaan\"))\n",
    "print(re.search('ma?n',\"mn\"))\n",
    "print(re.search('ma?n',\"masanman\"))\n",
    "\n",
    "print(re.findall('a{3,5}',\"maaan maan mamaaaaaam aaaa aaaaa\"))\n",
    "\n",
    "print(re.findall('[0-9]{3,4}',\"827 138 8851\"))\n",
    "\n",
    "print(re.search('ba[artz]', 'foobarqux'))\n",
    "print(re.search('ba[artz]', 'foobazqux'))"
   ]
  },
  {
   "cell_type": "code",
   "execution_count": 20,
   "metadata": {
    "tags": []
   },
   "outputs": [
    {
     "output_type": "stream",
     "name": "stdout",
     "text": "['12', '89', '34']\n"
    }
   ],
   "source": [
    "'''re.findall()\n",
    "The re.findall() method returns a list of strings containing all matches.\n",
    "'''\n",
    "\n",
    "# Program to extract numbers from a string\n",
    "\n",
    "import re\n",
    "\n",
    "string = 'hello 12 hi 89. Howdy 34'\n",
    "pattern = '\\d+'\n",
    "\n",
    "result = re.findall(pattern, string) \n",
    "print(result)"
   ]
  },
  {
   "cell_type": "code",
   "execution_count": 24,
   "metadata": {
    "tags": []
   },
   "outputs": [
    {
     "output_type": "stream",
     "name": "stdout",
     "text": "['Twelve:', ' Eighty nine:', '.']\n['Twelve:', ' Eighty nine:89 Nine:9.']\n"
    }
   ],
   "source": [
    "'''\n",
    "re.split()\n",
    "The re.split method splits the string where there is a match and returns a list of strings where the splits have occurred.\n",
    "'''\n",
    "import re\n",
    "\n",
    "string = 'Twelve:12 Eighty nine:89.'\n",
    "pattern = '\\d+'\n",
    "\n",
    "result = re.split(pattern, string) \n",
    "print(result)\n",
    "\n",
    "# If the pattern is not found, re.split() returns a list containing the original string.\n",
    "# You can pass maxsplit argument to the re.split() method. It's the maximum number of splits that will occur.\n",
    "\n",
    "import re\n",
    "\n",
    "string = 'Twelve:12 Eighty nine:89 Nine:9.'\n",
    "pattern = '\\d+'\n",
    "\n",
    "# maxsplit = 1\n",
    "# split only at the first occurrence\n",
    "result = re.split(pattern, string, 1) \n",
    "print(result)\n",
    "\n"
   ]
  },
  {
   "cell_type": "code",
   "execution_count": 28,
   "metadata": {
    "tags": []
   },
   "outputs": [
    {
     "output_type": "stream",
     "name": "stdout",
     "text": "abc12de23f456\nabc12de 23 \n f45 6\n"
    }
   ],
   "source": [
    "'''\n",
    "re.sub()\n",
    "The syntax of re.sub() is:\n",
    "\n",
    "re.sub(pattern, replace, string)\n",
    "The method returns a string where matched occurrences are replaced with the content of replace variable.\n",
    "If the pattern is not found, re.sub() returns the original string.\n",
    "'''\n",
    "\n",
    "# Program to remove all whitespaces\n",
    "import re\n",
    "\n",
    "# multiline string\n",
    "string = 'abc 12de 23 \\n f45 6'\n",
    "\n",
    "# matches all whitespace characters\n",
    "pattern = '\\s+'\n",
    "\n",
    "# empty string\n",
    "replace = ''\n",
    "\n",
    "new_string = re.sub(pattern, replace, string) \n",
    "print(new_string)\n",
    "\n",
    "# You can pass count as a fourth parameter to the re.sub() method. If omited, it results to 0. This will replace all occurrences.\n",
    "\n",
    "\n",
    "import re\n",
    "\n",
    "# multiline string\n",
    "string = 'abc 12de 23 \\n f45 6'\n",
    "\n",
    "# matches all whitespace characters\n",
    "pattern = '\\s+'\n",
    "replace = ''\n",
    "\n",
    "new_string = re.sub(r'\\s+', replace, string, 1) \n",
    "print(new_string)"
   ]
  },
  {
   "cell_type": "code",
   "execution_count": 29,
   "metadata": {
    "tags": []
   },
   "outputs": [
    {
     "output_type": "stream",
     "name": "stdout",
     "text": "('abc12de23f456', 4)\n"
    }
   ],
   "source": [
    "'''\n",
    "re.subn()\n",
    "The re.subn() is similar to re.sub() expect it returns a tuple of 2 items containing the new string and the number of substitutions made.'''\n",
    "\n",
    "\n",
    "# Program to remove all whitespaces\n",
    "import re\n",
    "\n",
    "# multiline string\n",
    "string = 'abc 12\\\n",
    "de 23 \\n f45 6'\n",
    "\n",
    "# matches all whitespace characters\n",
    "pattern = '\\s+'\n",
    "\n",
    "# empty string\n",
    "replace = ''\n",
    "\n",
    "new_string = re.subn(pattern, replace, string) \n",
    "print(new_string)"
   ]
  },
  {
   "cell_type": "code",
   "execution_count": 30,
   "metadata": {
    "tags": []
   },
   "outputs": [
    {
     "output_type": "stream",
     "name": "stdout",
     "text": "pattern found inside the string\n"
    }
   ],
   "source": [
    "'''\n",
    "re.search()\n",
    "The re.search() method takes two arguments: a pattern and a string. The method looks for the first location where the RegEx pattern produces a match with the string.\n",
    "\n",
    "If the search is successful, re.search() returns a match object; if not, it returns None.\n",
    "'''\n",
    "\n",
    "\n",
    "import re\n",
    "\n",
    "string = \"Python is fun\"\n",
    "\n",
    "# check if 'Python' is at the beginning\n",
    "match = re.search('\\APython', string)\n",
    "\n",
    "if match:\n",
    "  print(\"pattern found inside the string\")\n",
    "else:\n",
    "  print(\"pattern not found\")  "
   ]
  },
  {
   "cell_type": "code",
   "execution_count": 64,
   "metadata": {
    "tags": []
   },
   "outputs": [
    {
     "output_type": "stream",
     "name": "stdout",
     "text": "<re.Match object; span=(0, 8), match='39801 35'>\n39801 35\n"
    }
   ],
   "source": [
    "# match\n",
    "dir(match)\n",
    "\n",
    "\n",
    "import re\n",
    "\n",
    "string = '39801 356, 2102 1111'\n",
    "\n",
    "# Three digit number followed by space followed by two digit number\n",
    "pattern = '(\\d{5}) (\\d{2})'\n",
    "\n",
    "# match variable contains a Match object.\n",
    "match = re.search(pattern, string)\n",
    "print(match)\n",
    "\n",
    "if match:\n",
    "  print(match.group())\n",
    "else:\n",
    "  print(\"pattern not found\")"
   ]
  },
  {
   "cell_type": "code",
   "execution_count": 82,
   "metadata": {
    "tags": []
   },
   "outputs": [
    {
     "output_type": "stream",
     "name": "stdout",
     "text": "<re.Match object; span=(0, 12), match='83.149.9.216'>\n83.149.9.216\n"
    }
   ],
   "source": [
    "s1 = '83.149.9.216 - - [17/May/2015:10:05:03 +0000] \"GET /presentations/logstash-monitorama-2013/images/kibana-search.png HTTP/1.1\" 200 203023 \"http://semicomplete.com/presentations/logstash-monitorama-2013/\" \"Mozilla/5.0 (Macintosh; Intel Mac OS X 10_9_1) AppleWebKit/537.36 (KHTML, like Gecko) Chrome/32.0.1700.77 Safari/537.36\" '\n",
    "\n",
    "\n",
    "z = re.search(r'\\d{1,3}.\\d{1,3}.\\d{1,3}.\\d{1,3}',s1)\n",
    "print(z)\n",
    "print(z.group())"
   ]
  },
  {
   "cell_type": "code",
   "execution_count": 100,
   "metadata": {
    "tags": [
     "outputPrepend"
    ]
   },
   "outputs": [
    {
     "output_type": "stream",
     "name": "stdout",
     "text": "=> 1\nIP Address => 95.153.95.223 Count => 1\nIP Address => 46.65.248.177 Count => 6\nIP Address => 123.125.71.82 Count => 1\nIP Address => 79.101.87.86 Count => 16\nIP Address => 88.61.50.114 Count => 1\nIP Address => 65.52.104.233 Count => 5\nIP Address => 89.238.233.38 Count => 7\nIP Address => 109.195.177.171 Count => 6\nIP Address => 77.241.193.88 Count => 10\nIP Address => 193.77.158.208 Count => 6\nIP Address => 178.222.167.128 Count => 2\nIP Address => 213.87.123.186 Count => 1\nIP Address => 89.212.62.88 Count => 6\nIP Address => 173.176.91.196 Count => 1\nIP Address => 201.22.249.225 Count => 3\nIP Address => 118.92.157.140 Count => 1\nIP Address => 212.227.66.11 Count => 1\nIP Address => 199.247.189.63 Count => 6\nIP Address => 46.53.98.24 Count => 1\nIP Address => 5.0.375.55 Count => 1\nIP Address => 194.14.211.19 Count => 6\nIP Address => 20.137.2.50 Count => 1\nIP Address => 176.198.189.108 Count => 1\nIP Address => 180.76.6.49 Count => 1\nIP Address => 128.118.108.67 Count => 32\nIP Address => 213.133.224.50 Count => 1\nIP Address => 212.51.173.12 Count => 27\nIP Address => 84.121.6.23 Count => 5\nIP Address => 103.245.44.13 Count => 4\nIP Address => 88.152.28.187 Count => 1\nIP Address => 157.55.32.107 Count => 1\nIP Address => 61.156.217.135 Count => 2\nIP Address => 95.87.197.134 Count => 6\nIP Address => 41.248.194.136 Count => 1\nIP Address => 85.216.186.139 Count => 6\nIP Address => 162.44.252.21 Count => 6\nIP Address => 80.156.209.18 Count => 6\nIP Address => 14.160.65.22 Count => 50\nIP Address => 83.42.229.238 Count => 18\nIP Address => 139.184.30.132 Count => 9\nIP Address => 83.139.110.254 Count => 1\nIP Address => 194.186.207.105 Count => 33\nIP Address => 192.118.78.198 Count => 1\nIP Address => 123.125.71.56 Count => 1\nIP Address => 69.167.130.5 Count => 9\nIP Address => 193.24.88.211 Count => 7\nIP Address => 180.76.6.50 Count => 1\nIP Address => 74.125.19.208 Count => 1\nIP Address => 213.124.13.242 Count => 2\nIP Address => 83.31.36.250 Count => 4\nIP Address => 105.224.234.235 Count => 1\nIP Address => 113.189.161.125 Count => 1\nIP Address => 46.26.114.245 Count => 1\nIP Address => 85.89.160.218 Count => 7\nIP Address => 194.146.132.138 Count => 6\nIP Address => 67.220.144.226 Count => 2\nIP Address => 78.166.243.242 Count => 1\nIP Address => 173.236.61.220 Count => 2\nIP Address => 54.221.138.247 Count => 1\nIP Address => 91.220.39.15 Count => 6\nIP Address => 61.140.183.41 Count => 32\nIP Address => 180.211.193.6 Count => 1\nIP Address => 194.45.150.17 Count => 6\nIP Address => 62.225.70.202 Count => 33\nIP Address => 41.223.160.233 Count => 1\nIP Address => 93.57.95.188 Count => 5\nIP Address => 39.41.133.216 Count => 1\nIP Address => 124.124.1.57 Count => 1\nIP Address => 178.250.45.51 Count => 2\nIP Address => 220.209.87.113 Count => 6\nIP Address => 96.254.233.150 Count => 6\nIP Address => 217.17.193.66 Count => 7\nIP Address => 217.69.133.235 Count => 1\nIP Address => 60.29.35.14 Count => 2\nIP Address => 158.136.112.187 Count => 1\nIP Address => 186.9.133.54 Count => 1\nIP Address => 78.26.132.172 Count => 2\nIP Address => 195.38.23.137 Count => 2\nIP Address => 180.211.69.209 Count => 1\nIP Address => 199.30.20.30 Count => 2\nIP Address => 193.167.195.60 Count => 6\nIP Address => 223.67.143.84 Count => 1\nIP Address => 193.50.193.83 Count => 8\nIP Address => 81.136.131.79 Count => 2\nIP Address => 198.55.109.202 Count => 2\nIP Address => 199.119.124.43 Count => 2\nIP Address => 213.193.72.155 Count => 6\nIP Address => 66.249.83.239 Count => 2\nIP Address => 217.195.202.13 Count => 23\nIP Address => 5.235.199.240 Count => 1\nIP Address => 2.85.194.19 Count => 1\nIP Address => 212.107.116.234 Count => 1\nIP Address => 109.74.154.79 Count => 7\nIP Address => 110.174.108.127 Count => 1\nIP Address => 182.253.23.3 Count => 6\nIP Address => 62.210.189.45 Count => 1\nIP Address => 82.181.180.138 Count => 7\nIP Address => 193.185.55.253 Count => 6\nIP Address => 89.156.153.83 Count => 6\nIP Address => 199.187.125.26 Count => 1\nIP Address => 173.200.233.195 Count => 1\nIP Address => 106.78.19.160 Count => 18\nIP Address => 31.150.236.68 Count => 1\nIP Address => 82.80.14.189 Count => 29\nIP Address => 123.125.71.41 Count => 1\nIP Address => 178.213.67.2 Count => 1\nIP Address => 206.47.94.142 Count => 7\nIP Address => 77.231.200.120 Count => 1\nIP Address => 200.141.109.74 Count => 1\nIP Address => 188.178.214.179 Count => 2\nIP Address => 114.250.134.175 Count => 1\nIP Address => 204.93.54.177 Count => 2\nIP Address => 128.214.173.46 Count => 8\nIP Address => 82.209.214.162 Count => 1\nIP Address => 184.154.149.126 Count => 2\nIP Address => 173.236.32.219 Count => 1\nIP Address => 84.233.151.236 Count => 6\nIP Address => 193.40.6.84 Count => 6\nIP Address => 200.68.86.233 Count => 6\nIP Address => 94.93.82.148 Count => 24\nIP Address => 85.43.182.12 Count => 9\nIP Address => 41.251.155.27 Count => 2\nIP Address => 173.166.158.222 Count => 6\nIP Address => 79.118.91.108 Count => 2\nIP Address => 180.169.2.99 Count => 1\nIP Address => 98.245.87.136 Count => 2\nIP Address => 125.199.63.98 Count => 6\nIP Address => 213.174.192.220 Count => 6\nIP Address => 108.178.45.172 Count => 1\nIP Address => 82.178.75.63 Count => 1\nIP Address => 72.182.73.81 Count => 1\nIP Address => 54.236.213.208 Count => 1\nIP Address => 208.88.254.164 Count => 1\nIP Address => 75.127.15.68 Count => 1\nIP Address => 96.127.149.186 Count => 1\nIP Address => 95.153.110.172 Count => 1\nIP Address => 198.167.137.193 Count => 2\nIP Address => 62.12.14.27 Count => 6\nIP Address => 188.165.243.45 Count => 3\nIP Address => 130.239.41.58 Count => 6\nIP Address => 223.225.206.164 Count => 1\nIP Address => 213.160.109.10 Count => 7\nIP Address => 176.46.113.39 Count => 1\nIP Address => 186.202.153.56 Count => 1\nIP Address => 106.51.144.106 Count => 10\nIP Address => 177.132.188.205 Count => 6\nIP Address => 82.135.32.98 Count => 7\nIP Address => 173.36.196.6 Count => 6\nIP Address => 54.215.96.68 Count => 1\nIP Address => 80.252.78.170 Count => 6\nIP Address => 194.171.252.104 Count => 6\nIP Address => 83.206.120.18 Count => 6\nIP Address => 129.184.84.11 Count => 4\nIP Address => 129.184.84.13 Count => 1\nIP Address => 129.184.84.12 Count => 1\nIP Address => 152.23.4.70 Count => 2\nIP Address => 83.61.80.53 Count => 26\nIP Address => 178.118.111.33 Count => 6\nIP Address => 91.231.179.253 Count => 6\nIP Address => 50.2.225.202 Count => 1\nIP Address => 69.175.14.230 Count => 1\nIP Address => 80.187.96.71 Count => 4\nIP Address => 190.153.25.242 Count => 8\nIP Address => 125.122.211.40 Count => 6\nIP Address => 60.191.124.236 Count => 1\nIP Address => 62.159.237.82 Count => 6\nIP Address => 1.2.3.4 Count => 1\nIP Address => 212.48.66.64 Count => 2\nIP Address => 108.15.20.23 Count => 6\nIP Address => 108.61.140.67 Count => 1\nIP Address => 23.94.36.245 Count => 2\nIP Address => 194.105.145.147 Count => 6\nIP Address => 54.242.115.144 Count => 1\nIP Address => 66.249.85.135 Count => 2\nIP Address => 183.83.4.248 Count => 1\nIP Address => 202.134.13.137 Count => 1\nIP Address => 178.213.66.2 Count => 6\nIP Address => 178.17.6.226 Count => 6\nIP Address => 24.5.221.92 Count => 5\nIP Address => 212.33.34.196 Count => 7\nIP Address => 147.210.12.12 Count => 1\nIP Address => 79.176.36.151 Count => 7\nIP Address => 198.208.159.20 Count => 1\nIP Address => 170.148.69.141 Count => 8\nIP Address => 101.226.33.222 Count => 2\nIP Address => 99.6.61.4 Count => 6\nIP Address => 130.226.230.7 Count => 7\nIP Address => 78.49.133.207 Count => 7\nIP Address => 198.50.227.136 Count => 2\nIP Address => 151.225.218.180 Count => 1\nIP Address => 54.241.62.89 Count => 2\nIP Address => 194.250.79.71 Count => 7\nIP Address => 81.157.147.252 Count => 6\nIP Address => 108.29.33.122 Count => 6\nIP Address => 173.213.97.176 Count => 2\nIP Address => 200.85.183.174 Count => 6\nIP Address => 183.37.131.40 Count => 7\nIP Address => 97.82.80.65 Count => 9\nIP Address => 62.77.171.249 Count => 7\nIP Address => 200.89.129.197 Count => 2\nIP Address => 50.59.104.212 Count => 6\nIP Address => 195.56.119.209 Count => 6\nIP Address => 68.40.205.212 Count => 1\nIP Address => 14.18.25.243 Count => 6\nIP Address => 109.109.46.88 Count => 1\nIP Address => 157.55.33.19 Count => 3\nIP Address => 192.254.138.148 Count => 1\nIP Address => 79.35.84.239 Count => 6\nIP Address => 69.85.215.56 Count => 6\nIP Address => 89.121.200.106 Count => 6\nIP Address => 83.69.235.12 Count => 6\nIP Address => 96.63.29.108 Count => 6\nIP Address => 195.37.190.67 Count => 1\nIP Address => 4.0.222.12 Count => 1\nIP Address => 92.96.157.230 Count => 1\nIP Address => 180.76.5.21 Count => 1\nIP Address => 167.220.26.44 Count => 1\nIP Address => 162.213.42.132 Count => 2\nIP Address => 37.11.0.8 Count => 13\nIP Address => 184.154.100.130 Count => 2\nIP Address => 131.107.160.94 Count => 1\nIP Address => 37.252.127.97 Count => 1\nIP Address => 213.181.52.10 Count => 6\nIP Address => 93.129.45.32 Count => 2\nIP Address => 116.75.148.149 Count => 7\nIP Address => 192.44.32.8 Count => 8\nIP Address => 194.153.130.2 Count => 1\nIP Address => 86.101.235.77 Count => 1\nIP Address => 163.157.254.25 Count => 6\nIP Address => 54.215.118.244 Count => 1\nIP Address => 199.15.233.140 Count => 1\nIP Address => 5.0.381.0 Count => 1\nIP Address => 92.237.208.151 Count => 2\nIP Address => 86.9.201.133 Count => 2\nIP Address => 12.165.188.130 Count => 1\nIP Address => 97.74.24.113 Count => 1\nIP Address => 50.157.244.41 Count => 4\nIP Address => 70.177.214.34 Count => 1\nIP Address => 2.241.35.167 Count => 32\nIP Address => 188.9.138.189 Count => 8\nIP Address => 157.55.34.93 Count => 2\nIP Address => 91.114.206.13 Count => 7\nIP Address => 216.107.155.114 Count => 2\nIP Address => 79.215.79.185 Count => 1\nIP Address => 180.76.6.147 Count => 2\nIP Address => 180.76.5.69 Count => 1\nIP Address => 193.30.41.222 Count => 6\nIP Address => 119.63.196.17 Count => 1\nIP Address => 70.197.6.64 Count => 1\nIP Address => 66.249.88.135 Count => 2\nIP Address => 159.50.249.148 Count => 2\nIP Address => 159.50.249.150 Count => 4\nIP Address => 203.145.79.41 Count => 2\nIP Address => 198.50.175.174 Count => 1\nIP Address => 134.158.231.20 Count => 27\nIP Address => 193.252.118.175 Count => 2\nIP Address => 183.221.90.177 Count => 6\nIP Address => 211.125.92.233 Count => 1\nIP Address => 87.109.78.50 Count => 1\nIP Address => 197.36.142.40 Count => 6\nIP Address => 178.137.5.235 Count => 1\nIP Address => 193.33.2.113 Count => 13\nIP Address => 83.25.215.235 Count => 1\nIP Address => 109.9.166.16 Count => 1\nIP Address => 185.38.249.133 Count => 2\nIP Address => 130.193.173.90 Count => 1\nIP Address => 91.236.74.121 Count => 1\nIP Address => 129.27.3.93 Count => 2\nIP Address => 128.147.28.1 Count => 7\nIP Address => 72.54.172.193 Count => 6\nIP Address => 216.143.11.118 Count => 7\nIP Address => 27.159.230.187 Count => 1\nIP Address => 81.210.53.2 Count => 6\nIP Address => 109.190.148.218 Count => 6\nIP Address => 177.37.5.6 Count => 2\nIP Address => 173.236.34.182 Count => 1\nIP Address => 199.30.20.64 Count => 2\nIP Address => 184.154.137.213 Count => 1\nIP Address => 213.150.233.62 Count => 6\nIP Address => 71.59.185.163 Count => 1\nIP Address => 200.10.161.5 Count => 4\nIP Address => 79.84.40.134 Count => 18\nIP Address => 89.107.177.18 Count => 37\nIP Address => 89.107.180.34 Count => 1\nIP Address => 79.148.255.215 Count => 2\nIP Address => 83.221.67.237 Count => 7\nIP Address => 178.15.11.82 Count => 6\nIP Address => 66.162.222.50 Count => 12\nIP Address => 109.231.204.82 Count => 6\nIP Address => 80.130.134.87 Count => 2\nIP Address => 92.236.181.94 Count => 6\nIP Address => 24.0.194.37 Count => 32\nIP Address => 180.76.5.189 Count => 1\nIP Address => 15.211.201.85 Count => 4\nIP Address => 128.179.155.97 Count => 6\nIP Address => 222.14.252.108 Count => 26\nIP Address => 132.252.139.85 Count => 10\nIP Address => 130.126.255.52 Count => 2\nIP Address => 186.44.199.211 Count => 1\nIP Address => 70.182.103.221 Count => 6\nIP Address => 157.55.35.114 Count => 2\nIP Address => 72.177.92.9 Count => 1\nIP Address => 190.181.197.43 Count => 1\nIP Address => 8.35.201.53 Count => 2\nIP Address => 80.160.68.134 Count => 9\nIP Address => 216.16.195.52 Count => 2\nIP Address => 199.30.25.233 Count => 1\nIP Address => 157.55.33.15 Count => 3\nIP Address => 31.41.216.135 Count => 1\nIP Address => 95.108.158.230 Count => 2\nIP Address => 190.131.202.114 Count => 1\nIP Address => 68.14.231.140 Count => 3\nIP Address => 174.36.228.156 Count => 2\nIP Address => 67.225.29.201 Count => 1\nIP Address => 199.59.148.211 Count => 2\nIP Address => 176.14.63.246 Count => 6\nIP Address => 81.190.174.219 Count => 19\nIP Address => 185.38.249.96 Count => 2\nIP Address => 184.153.164.52 Count => 6\nIP Address => 99.100.25.83 Count => 1\nIP Address => 183.60.214.19 Count => 1\nIP Address => 116.203.238.137 Count => 6\nIP Address => 216.56.20.98 Count => 1\nIP Address => 130.126.255.121 Count => 6\nIP Address => 198.167.137.156 Count => 2\nIP Address => 65.55.52.94 Count => 1\nIP Address => 115.245.219.74 Count => 1\nIP Address => 132.229.223.2 Count => 7\nIP Address => 188.192.27.241 Count => 8\nIP Address => 189.11.65.66 Count => 6\nIP Address => 184.151.222.45 Count => 1\nIP Address => 173.213.99.1 Count => 2\nIP Address => 216.172.140.128 Count => 2\nIP Address => 80.108.184.97 Count => 3\nIP Address => 179.179.206.176 Count => 6\nIP Address => 190.198.191.75 Count => 6\nIP Address => 77.234.68.135 Count => 2\nIP Address => 5.10.83.105 Count => 3\nIP Address => 189.127.128.209 Count => 1\nIP Address => 212.101.243.11 Count => 1\nIP Address => 177.6.142.6 Count => 6\nIP Address => 165.145.12.44 Count => 2\nIP Address => 173.192.238.44 Count => 1\nIP Address => 5.10.83.66 Count => 1\nIP Address => 66.187.233.202 Count => 6\nIP Address => 91.191.197.87 Count => 1\nIP Address => 185.37.161.34 Count => 1\nIP Address => 174.26.93.238 Count => 6\nIP Address => 31.6.71.243 Count => 4\nIP Address => 189.221.118.68 Count => 1\nIP Address => 8.35.201.55 Count => 1\nIP Address => 8.35.201.54 Count => 1\nIP Address => 8.35.201.49 Count => 2\nIP Address => 8.35.201.52 Count => 1\nIP Address => 5.10.83.30 Count => 1\nIP Address => 5.144.176.110 Count => 2\nIP Address => 200.28.244.131 Count => 1\nIP Address => 190.1.111.247 Count => 1\nIP Address => 5.10.83.23 Count => 5\nIP Address => 5.10.83.98 Count => 2\nIP Address => 157.127.239.146 Count => 6\nIP Address => 177.73.254.10 Count => 6\nIP Address => 93.80.29.12 Count => 6\nIP Address => 82.233.80.245 Count => 6\nIP Address => 64.131.102.243 Count => 8\nIP Address => 157.55.33.49 Count => 2\nIP Address => 199.204.56.18 Count => 6\nIP Address => 180.76.5.187 Count => 1\nIP Address => 180.76.5.28 Count => 1\nIP Address => 204.93.54.167 Count => 2\nIP Address => 82.24.16.46 Count => 1\nIP Address => 5.10.83.65 Count => 4\nIP Address => 62.159.77.167 Count => 6\nIP Address => 197.237.89.221 Count => 1\nIP Address => 5.10.83.82 Count => 4\nIP Address => 165.139.161.160 Count => 1\nIP Address => 74.208.172.133 Count => 1\nIP Address => 150.162.56.185 Count => 23\nIP Address => 23.30.147.145 Count => 28\nIP Address => 195.176.191.93 Count => 6\nIP Address => 78.171.202.100 Count => 9\nIP Address => 91.99.29.38 Count => 6\nIP Address => 180.76.6.141 Count => 1\nIP Address => 108.184.124.170 Count => 2\nIP Address => 37.188.233.114 Count => 2\nIP Address => 86.185.215.203 Count => 1\nIP Address => 177.141.70.11 Count => 6\nIP Address => 72.4.104.94 Count => 6\nIP Address => 195.176.110.194 Count => 1\nIP Address => 5.10.83.91 Count => 5\nIP Address => 49.206.120.190 Count => 5\nIP Address => 82.60.18.23 Count => 2\nIP Address => 24.190.3.5 Count => 1\nIP Address => 74.76.53.142 Count => 6\nIP Address => 173.162.242.85 Count => 1\nIP Address => 119.224.20.139 Count => 1\nIP Address => 68.87.42.115 Count => 1\nIP Address => 93.175.2.211 Count => 1\nIP Address => 79.197.82.119 Count => 6\nIP Address => 94.253.195.219 Count => 7\nIP Address => 72.199.66.220 Count => 6\nIP Address => 54.204.20.250 Count => 1\nIP Address => 54.204.20.249 Count => 1\nIP Address => 54.225.104.196 Count => 1\nIP Address => 173.232.106.129 Count => 2\nIP Address => 183.60.215.50 Count => 1\nIP Address => 5.135.113.131 Count => 2\nIP Address => 65.55.52.111 Count => 1\nIP Address => 188.238.146.131 Count => 1\nIP Address => 200.31.173.106 Count => 34\nIP Address => 78.57.150.9 Count => 2\nIP Address => 62.4.19.142 Count => 2\nIP Address => 180.76.5.114 Count => 1\nIP Address => 5.10.83.21 Count => 4\nIP Address => 204.62.56.3 Count => 34\nIP Address => 155.201.35.55 Count => 6\nIP Address => 157.56.92.142 Count => 1\nIP Address => 5.10.83.73 Count => 1\nIP Address => 204.236.190.162 Count => 1\nIP Address => 24.97.227.132 Count => 5\nIP Address => 50.131.220.143 Count => 7\nIP Address => 24.130.53.65 Count => 6\nIP Address => 98.173.30.75 Count => 2\nIP Address => 2.38.110.208 Count => 1\nIP Address => 41.249.219.90 Count => 1\nIP Address => 180.76.6.14 Count => 1\nIP Address => 194.237.142.21 Count => 1\nIP Address => 88.198.156.152 Count => 1\nIP Address => 68.189.165.19 Count => 1\nIP Address => 5.144.176.206 Count => 2\nIP Address => 157.55.33.183 Count => 1\nIP Address => 184.154.170.122 Count => 2\nIP Address => 141.142.223.45 Count => 6\nIP Address => 182.253.73.95 Count => 2\nIP Address => 78.47.134.185 Count => 1\nIP Address => 92.100.97.83 Count => 2\nIP Address => 23.229.67.14 Count => 4\nIP Address => 99.146.78.102 Count => 1\nIP Address => 190.107.140.178 Count => 1\nIP Address => 208.43.243.244 Count => 8\nIP Address => 15.219.153.83 Count => 3\nIP Address => 180.76.5.73 Count => 1\nIP Address => 216.151.137.35 Count => 2\nIP Address => 208.43.251.180 Count => 9\nIP Address => 99.17.221.6 Count => 2\nIP Address => 173.252.110.115 Count => 1\nIP Address => 173.252.103.7 Count => 1\nIP Address => 91.180.146.16 Count => 6\nIP Address => 86.43.205.189 Count => 1\nIP Address => 129.10.115.241 Count => 1\nIP Address => 129.10.115.56 Count => 1\nIP Address => 188.176.12.4 Count => 2\nIP Address => 78.19.193.147 Count => 6\nIP Address => 86.101.250.29 Count => 1\nIP Address => 151.250.94.199 Count => 1\nIP Address => 183.60.244.20 Count => 1\nIP Address => 134.192.71.41 Count => 6\nIP Address => 72.9.0.86 Count => 6\nIP Address => 24.114.40.26 Count => 1\nIP Address => 178.32.31.15 Count => 2\nIP Address => 173.231.106.34 Count => 13\nIP Address => 86.166.162.41 Count => 2\nIP Address => 5.10.83.53 Count => 4\nIP Address => 189.71.37.115 Count => 6\nIP Address => 12.110.81.190 Count => 7\nIP Address => 195.194.187.106 Count => 7\nIP Address => 148.241.190.81 Count => 1\nIP Address => 47.22.128.211 Count => 1\nIP Address => 180.76.5.151 Count => 1\nIP Address => 79.224.95.124 Count => 2\nIP Address => 184.169.185.164 Count => 1\nIP Address => 82.130.48.164 Count => 6\nIP Address => 72.182.137.233 Count => 1\nIP Address => 157.55.33.17 Count => 1\nIP Address => 91.232.96.8 Count => 5\nIP Address => 82.130.49.223 Count => 6\nIP Address => 31.4.197.143 Count => 6\nIP Address => 84.215.206.35 Count => 2\nIP Address => 162.211.96.55 Count => 6\nIP Address => 184.185.208.221 Count => 2\nIP Address => 184.66.149.103 Count => 37\nIP Address => 87.64.176.135 Count => 5\nIP Address => 81.34.53.43 Count => 7\nIP Address => 184.148.132.111 Count => 1\nIP Address => 76.21.44.161 Count => 1\nIP Address => 46.166.199.137 Count => 1\nIP Address => 8.0.552.224 Count => 1\nIP Address => 209.118.149.82 Count => 6\nIP Address => 199.30.24.78 Count => 1\nIP Address => 54.203.120.42 Count => 1\nIP Address => 173.164.44.34 Count => 6\nIP Address => 80.94.240.100 Count => 1\nIP Address => 192.99.12.169 Count => 2\nIP Address => 70.42.255.243 Count => 1\nIP Address => 188.252.129.118 Count => 1\nIP Address => 24.115.69.95 Count => 5\nIP Address => 212.180.233.101 Count => 6\nIP Address => 109.163.234.2 Count => 1\nIP Address => 1.8.1.1 Count => 1\nIP Address => 2.0.0.1 Count => 1\nIP Address => 130.227.120.134 Count => 2\nIP Address => 108.28.155.98 Count => 6\nIP Address => 120.136.4.243 Count => 1\nIP Address => 176.31.39.30 Count => 2\nIP Address => 116.199.211.249 Count => 1\nIP Address => 92.115.179.247 Count => 6\nIP Address => 46.119.114.245 Count => 1\nIP Address => 66.169.220.99 Count => 1\nIP Address => 91.151.182.109 Count => 6\nIP Address => 63.140.98.80 Count => 8\nIP Address => 38.99.236.50 Count => 33\nIP Address => 180.76.6.56 Count => 1\n"
    }
   ],
   "source": [
    "from collections import Counter\n",
    "\n",
    "def apache_log_reader(logfile):\n",
    "    myregex = r'\\d{1,3}\\.\\d{1,3}\\.\\d{1,3}\\.\\d{1,3}'\n",
    "\n",
    "    with open(logfile) as f:\n",
    "        log = f.read()\n",
    "        my_iplist = re.findall(myregex,log)\n",
    "        # print(\"list: \",my_iplist)\n",
    "        ipcount = Counter(my_iplist)\n",
    "        for k, v in ipcount.items():\n",
    "            print(\"IP Address \" + \"=> \" + str(k) + \" \" + \"Count \"  + \"=> \" + str(v))\n",
    "\n",
    "# Create entry point of our code\n",
    "if __name__ == '__main__':\n",
    "    apache_log_reader(\"/home/addy/workspace/for-placement/python/file-handling/demo.txt\")"
   ]
  },
  {
   "cell_type": "code",
   "execution_count": null,
   "metadata": {},
   "outputs": [],
   "source": []
  }
 ]
}